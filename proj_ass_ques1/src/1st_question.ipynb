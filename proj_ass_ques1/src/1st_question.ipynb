{
 "cells": [
  {
   "cell_type": "code",
   "execution_count": 40,
   "id": "18fce860",
   "metadata": {},
   "outputs": [],
   "source": [
    "import pandas as pd\n"
   ]
  },
  {
   "cell_type": "code",
   "execution_count": 45,
   "id": "1c7cf52a",
   "metadata": {},
   "outputs": [],
   "source": [
    "data = pd.read_csv('/Users/tarak/Downloads/PDS_ASSIGNMENT_1/ass_proj_ques1/raw_data/raw_data.csv')"
   ]
  },
  {
   "cell_type": "code",
   "execution_count": 46,
   "id": "712d0aaa",
   "metadata": {
    "scrolled": true
   },
   "outputs": [
    {
     "data": {
      "text/html": [
       "<div>\n",
       "<style scoped>\n",
       "    .dataframe tbody tr th:only-of-type {\n",
       "        vertical-align: middle;\n",
       "    }\n",
       "\n",
       "    .dataframe tbody tr th {\n",
       "        vertical-align: top;\n",
       "    }\n",
       "\n",
       "    .dataframe thead th {\n",
       "        text-align: right;\n",
       "    }\n",
       "</style>\n",
       "<table border=\"1\" class=\"dataframe\">\n",
       "  <thead>\n",
       "    <tr style=\"text-align: right;\">\n",
       "      <th></th>\n",
       "      <th>Height (Inches)</th>\n",
       "      <th>Weight (Pounds)</th>\n",
       "      <th>Age</th>\n",
       "      <th>Grip strength</th>\n",
       "      <th>Frailty</th>\n",
       "    </tr>\n",
       "  </thead>\n",
       "  <tbody>\n",
       "    <tr>\n",
       "      <th>0</th>\n",
       "      <td>65.8</td>\n",
       "      <td>112</td>\n",
       "      <td>30</td>\n",
       "      <td>30</td>\n",
       "      <td>N</td>\n",
       "    </tr>\n",
       "    <tr>\n",
       "      <th>1</th>\n",
       "      <td>71.5</td>\n",
       "      <td>136</td>\n",
       "      <td>19</td>\n",
       "      <td>31</td>\n",
       "      <td>N</td>\n",
       "    </tr>\n",
       "    <tr>\n",
       "      <th>2</th>\n",
       "      <td>69.4</td>\n",
       "      <td>153</td>\n",
       "      <td>45</td>\n",
       "      <td>29</td>\n",
       "      <td>N</td>\n",
       "    </tr>\n",
       "    <tr>\n",
       "      <th>3</th>\n",
       "      <td>68.2</td>\n",
       "      <td>142</td>\n",
       "      <td>22</td>\n",
       "      <td>28</td>\n",
       "      <td>Y</td>\n",
       "    </tr>\n",
       "    <tr>\n",
       "      <th>4</th>\n",
       "      <td>67.8</td>\n",
       "      <td>144</td>\n",
       "      <td>29</td>\n",
       "      <td>24</td>\n",
       "      <td>Y</td>\n",
       "    </tr>\n",
       "  </tbody>\n",
       "</table>\n",
       "</div>"
      ],
      "text/plain": [
       "   Height (Inches)  Weight (Pounds)  Age  Grip strength Frailty\n",
       "0             65.8              112   30             30       N\n",
       "1             71.5              136   19             31       N\n",
       "2             69.4              153   45             29       N\n",
       "3             68.2              142   22             28       Y\n",
       "4             67.8              144   29             24       Y"
      ]
     },
     "execution_count": 46,
     "metadata": {},
     "output_type": "execute_result"
    }
   ],
   "source": [
    "data.head()"
   ]
  },
  {
   "cell_type": "code",
   "execution_count": 48,
   "id": "0bf8d86c",
   "metadata": {},
   "outputs": [],
   "source": [
    "data = data.rename(columns={\"Height (Inches)\": \"Height\", \"Weight (Pounds)\": \"Weight\"})\n",
    "data.to_csv('C:\\\\Users\\\\tarak\\\\Downloads\\\\PDS_ASSIGNMENT_1\\\\ass_proj_ques1\\\\clean_data\\\\clean_data.csv')"
   ]
  },
  {
   "cell_type": "code",
   "execution_count": 49,
   "id": "91915b11",
   "metadata": {},
   "outputs": [],
   "source": [
    "import matplotlib.pyplot as plt\n",
    "data['BMI'] = (data['Weight']*703)/(data['Height']**2)\n",
    "data.BMI = data. BMI.round (1)\n",
    "data ['Person'] = data. index\n",
    "data. to_csv ('C:\\\\Users\\\\tarak\\\\Downloads\\\\PDS_ASSIGNMENT_1\\\\ass_proj_ques1\\\\clean_data\\processed data.csv')"
   ]
  },
  {
   "cell_type": "code",
   "execution_count": 53,
   "id": "d1a7818f",
   "metadata": {},
   "outputs": [
    {
     "data": {
      "image/png": "[encoded data removed]",
      "text/plain": [
       "<Figure size 640x480 with 1 Axes>"
      ]
     },
     "metadata": {},
     "output_type": "display_data"
    }
   ],
   "source": [
    "import numpy as np \n",
    "from matplotlib.lines import Line2D\n",
    "data = pd. read_csv ('C:\\\\Users\\\\tarak\\\\Downloads\\\\PDS_ASSIGNMENT_1\\\\ass_proj_ques1\\\\clean_data\\processed data.csv')\n",
    "colors = []\n",
    "for value in data.BMI:\n",
    "    if value <= 18.5:\n",
    "        colors.append ('gray')\n",
    "    elif value > 18.5 and value <- 25:\n",
    "        colors. append ('green')\n",
    "    elif value > 25 and val <-30:\n",
    "        colors. append ('orange' )\n",
    "    else:\n",
    "        colors. append ('red' )\n",
    "fig = plt. figure ()\n",
    "ax = fig.add_subplot (111)\n",
    "width= 0.5\n",
    "custom_lines = [Line2D([0], [0], color= 'gray', lw=4),\n",
    "                Line2D([0], [0], color='green', lw=4),\n",
    "                Line2D ([0], [0], color='orange', lw=4),\n",
    "                Line2D ([0], [0], color= 'red', lw=4)]\n",
    "ax. legend (custom_lines, ['Under Weight', 'Correct weight', 'over weight', 'obese'])\n",
    "ax.bar (data.Person, data.BMI, width, color=colors) \n",
    "plt.xticks (np.arange (0, 10, 1.0))\n",
    "plt.ylim (0, 30) \n",
    "plt.xlabel (\"Person\") \n",
    "plt.ylabel (\"BMI\") \n",
    "plt.title (\"BMI Analysis\")\n",
    "plt.savefig ('C:\\\\Users\\\\tarak\\\\Downloads\\\\PDS_ASSIGNMENT_1\\\\ass_proj_ques1\\\\results\\\\bmi analysis.png')\n",
    "plt. show ()"
   ]
  },
  {
   "cell_type": "code",
   "execution_count": 54,
   "id": "53f5133c",
   "metadata": {},
   "outputs": [
    {
     "data": {
      "image/png": "[encoded data removed]",
      "text/plain": [
       "<Figure size 640x480 with 1 Axes>"
      ]
     },
     "metadata": {},
     "output_type": "display_data"
    }
   ],
   "source": [
    "\n",
    "plt.boxplot (data .Weight)\n",
    "plt.title (\"Weight Analysis\")\n",
    "plt.ylabel (\"Weight\")\n",
    "plt.savefig ('C:\\\\Users\\\\tarak\\\\Downloads\\\\PDS_ASSIGNMENT_1\\\\ass_proj_ques1\\\\results\\\\weight_distribution.png')"
   ]
  }
 ],
 "metadata": {
  "kernelspec": {
   "display_name": "Python 3 (ipykernel)",
   "language": "python",
   "name": "python3"
  },
  "language_info": {
   "codemirror_mode": {
    "name": "ipython",
    "version": 3
   },
   "file_extension": ".py",
   "mimetype": "text/x-python",
   "name": "python",
   "nbconvert_exporter": "python",
   "pygments_lexer": "ipython3",
   "version": "3.11.2"
  }
 },
 "nbformat": 4,
 "nbformat_minor": 5
}
